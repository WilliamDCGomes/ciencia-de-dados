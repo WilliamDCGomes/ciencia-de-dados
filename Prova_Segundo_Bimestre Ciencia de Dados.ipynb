{
  "nbformat": 4,
  "nbformat_minor": 0,
  "metadata": {
    "colab": {
      "name": "Prova Segundo Bimestre.ipynb",
      "provenance": []
    },
    "kernelspec": {
      "name": "python3",
      "display_name": "Python 3"
    },
    "language_info": {
      "name": "python"
    }
  },
  "cells": [
    {
      "cell_type": "markdown",
      "source": [
        "Prova 2º Bimestre\n",
        "\n",
        "Nome William Douglas Costa Gomes\n",
        "\n",
        "RA 48467"
      ],
      "metadata": {
        "id": "JHRJE8cBpeVK"
      }
    },
    {
      "cell_type": "markdown",
      "source": [
        "Questão 1 (2,5) - Raspando o site vivareal.com.br para obter os dados"
      ],
      "metadata": {
        "id": "oI_Vicw_pVWU"
      }
    },
    {
      "cell_type": "markdown",
      "source": [
        "Importação das bibliotecas"
      ],
      "metadata": {
        "id": "R5-tSnFkf0q5"
      }
    },
    {
      "cell_type": "code",
      "execution_count": 1,
      "metadata": {
        "id": "qRPeHrrofiTS"
      },
      "outputs": [],
      "source": [
        "from bs4 import BeautifulSoup\n",
        "import requests\n",
        "import pandas as pd"
      ]
    },
    {
      "cell_type": "code",
      "source": [
        "tamanho = []\n",
        "quartos = []\n",
        "banheiros = []\n",
        "vagas = []\n",
        "bairros = []\n",
        "valor = []"
      ],
      "metadata": {
        "id": "OHMwdK55_jO5"
      },
      "execution_count": 10,
      "outputs": []
    },
    {
      "cell_type": "code",
      "source": [
        "for i in range(100):\n",
        "  index = i + 1\n",
        "  html=requests.get(\"https://www.vivareal.com.br/venda/sp/sao-paulo/apartamento_residencial/?pagina=\" + str(index)).text\n",
        "\n",
        "  soup=BeautifulSoup(html,'html5lib')\n",
        "\n",
        "  div = soup.find('div', {'class' : 'results-main__panel js-list'})\n",
        "\n",
        "  segunda_div = div.find('div', {'class' : 'results-list js-results-list'})\n",
        "\n",
        "  terceiro_div = div.find_all('div', {'class' : 'js-card-selector'})\n",
        "\n",
        "  informacoesAP = []\n",
        "  for item in terceiro_div:\n",
        "    # Localizando o preço\n",
        "    valores = item.find('div', {'class' : 'property-card__price js-property-card-prices js-property-card__price-small'})\n",
        "    try:\n",
        "      valorEncontrado = valores.find('p').text.strip().split()\n",
        "      valor.append(float(valorEncontrado[1]))\n",
        "    except:\n",
        "      continue\n",
        "\n",
        "    # Localizando o nome dos bairros\n",
        "    bairrosInformacoes = item.find('h2', {'class' : 'property-card__header'})\n",
        "    nomesBairros = bairrosInformacoes.find('span', {'class' : 'property-card__address'}).text.strip()\n",
        "    nomesSplit1 = nomesBairros.split('-')\n",
        "    nomeSplit2 = nomesSplit1[1].split(',')\n",
        "    bairros.append(nomeSplit2[0])\n",
        "\n",
        "    # Localizando o tamanho do apartamento\n",
        "    informacoesAP.append(item.find('ul', {'class' : 'property-card__details'}))\n",
        "    apTamanho = item.find('span', {'class' : 'property-card__detail-value js-property-card-value property-card__detail-area js-property-card-detail-area'}).text.strip().replace('--', '0').split('-')\n",
        "    tamanho.append(apTamanho[0])\n",
        "    \n",
        "    # Localizando os detalhes do apartamento\n",
        "    outras_informacoes = item.find_all('span', {'class' : 'property-card__detail-value js-property-card-value'})\n",
        "    quartos.append(outras_informacoes[0].text.strip().replace('--', '0'))\n",
        "    banheiros.append(outras_informacoes[1].text.strip().replace('--', '0'))\n",
        "    vagas.append(outras_informacoes[2].text.strip().replace('--', '0'))\n",
        "\n",
        "\n"
      ],
      "metadata": {
        "id": "jVI9Gdvef52t"
      },
      "execution_count": 11,
      "outputs": []
    },
    {
      "cell_type": "code",
      "source": [
        "dados = list(zip(tamanho, quartos, banheiros, vagas, bairros, valor))"
      ],
      "metadata": {
        "id": "1zHbgM1PszqV"
      },
      "execution_count": 35,
      "outputs": []
    },
    {
      "cell_type": "code",
      "source": [
        "dataFrame = pd.DataFrame(dados, columns=[\"tamanho\", \"quartos\", \"banheiros\", \"vagas\", \"bairros\", \"valor\"])"
      ],
      "metadata": {
        "id": "hlEE4Jr7xT6n"
      },
      "execution_count": 36,
      "outputs": []
    },
    {
      "cell_type": "code",
      "source": [
        "def cat2int(column):\n",
        "    vals = list(set(column))\n",
        "    for i, string in enumerate(column):\n",
        "        column[i] = vals.index(string)"
      ],
      "metadata": {
        "id": "zJJePMeo8Opd"
      },
      "execution_count": 37,
      "outputs": []
    },
    {
      "cell_type": "code",
      "source": [
        "def float2cat(column):\n",
        "    for i, valor in enumerate(column):\n",
        "        if valor < 500:\n",
        "            column[i] = \"Baixo\"\n",
        "        elif valor < 1000:\n",
        "            column[i] = \"Medio\"\n",
        "        else:\n",
        "            column[i] = \"Alto\""
      ],
      "metadata": {
        "id": "dAky5CQSqYVg"
      },
      "execution_count": 38,
      "outputs": []
    },
    {
      "cell_type": "code",
      "source": [
        "cat2int(dataFrame['bairros']) "
      ],
      "metadata": {
        "colab": {
          "base_uri": "https://localhost:8080/"
        },
        "id": "zj0zAl3TxaSB",
        "outputId": "42a0a68d-175a-48ea-f35c-82c580a0bd71"
      },
      "execution_count": 39,
      "outputs": [
        {
          "output_type": "stream",
          "name": "stderr",
          "text": [
            "/usr/local/lib/python3.7/dist-packages/ipykernel_launcher.py:4: SettingWithCopyWarning: \n",
            "A value is trying to be set on a copy of a slice from a DataFrame\n",
            "\n",
            "See the caveats in the documentation: https://pandas.pydata.org/pandas-docs/stable/user_guide/indexing.html#returning-a-view-versus-a-copy\n",
            "  after removing the cwd from sys.path.\n"
          ]
        }
      ]
    },
    {
      "cell_type": "code",
      "source": [
        "float2cat(dataFrame['valor'])"
      ],
      "metadata": {
        "colab": {
          "base_uri": "https://localhost:8080/"
        },
        "id": "FJ4lGwzkqRGO",
        "outputId": "8e8b7d28-0749-4b90-e584-12d11c5ebc55"
      },
      "execution_count": 40,
      "outputs": [
        {
          "output_type": "stream",
          "name": "stderr",
          "text": [
            "/usr/local/lib/python3.7/dist-packages/ipykernel_launcher.py:4: SettingWithCopyWarning: \n",
            "A value is trying to be set on a copy of a slice from a DataFrame\n",
            "\n",
            "See the caveats in the documentation: https://pandas.pydata.org/pandas-docs/stable/user_guide/indexing.html#returning-a-view-versus-a-copy\n",
            "  after removing the cwd from sys.path.\n",
            "/usr/local/lib/python3.7/dist-packages/pandas/core/indexing.py:1732: SettingWithCopyWarning: \n",
            "A value is trying to be set on a copy of a slice from a DataFrame\n",
            "\n",
            "See the caveats in the documentation: https://pandas.pydata.org/pandas-docs/stable/user_guide/indexing.html#returning-a-view-versus-a-copy\n",
            "  self._setitem_single_block(indexer, value, name)\n"
          ]
        }
      ]
    },
    {
      "cell_type": "code",
      "source": [
        "dataFrame"
      ],
      "metadata": {
        "colab": {
          "base_uri": "https://localhost:8080/",
          "height": 424
        },
        "id": "-WrR9Gw08kuw",
        "outputId": "6249e0aa-952c-4722-e65f-1a5f7efc7440"
      },
      "execution_count": 41,
      "outputs": [
        {
          "output_type": "execute_result",
          "data": {
            "text/plain": [
              "     tamanho quartos banheiros vagas bairros  valor\n",
              "0         48       2         1     0      12  Baixo\n",
              "1         98       2         3     1       6  Medio\n",
              "2         60       2         2     1       8  Baixo\n",
              "3         90       3         2     2       0  Medio\n",
              "4         85       3         2     1      14  Medio\n",
              "...      ...     ...       ...   ...     ...    ...\n",
              "2395      80       2         2     1      13  Medio\n",
              "2396      25       1         1     0      20  Medio\n",
              "2397      83       3         2     2       6  Medio\n",
              "2398      87       3         3     2      18  Medio\n",
              "2399      54       2         2     1      11  Baixo\n",
              "\n",
              "[2400 rows x 6 columns]"
            ],
            "text/html": [
              "\n",
              "  <div id=\"df-e2915fc0-8af6-47e4-981a-512ebf2eb4ad\">\n",
              "    <div class=\"colab-df-container\">\n",
              "      <div>\n",
              "<style scoped>\n",
              "    .dataframe tbody tr th:only-of-type {\n",
              "        vertical-align: middle;\n",
              "    }\n",
              "\n",
              "    .dataframe tbody tr th {\n",
              "        vertical-align: top;\n",
              "    }\n",
              "\n",
              "    .dataframe thead th {\n",
              "        text-align: right;\n",
              "    }\n",
              "</style>\n",
              "<table border=\"1\" class=\"dataframe\">\n",
              "  <thead>\n",
              "    <tr style=\"text-align: right;\">\n",
              "      <th></th>\n",
              "      <th>tamanho</th>\n",
              "      <th>quartos</th>\n",
              "      <th>banheiros</th>\n",
              "      <th>vagas</th>\n",
              "      <th>bairros</th>\n",
              "      <th>valor</th>\n",
              "    </tr>\n",
              "  </thead>\n",
              "  <tbody>\n",
              "    <tr>\n",
              "      <th>0</th>\n",
              "      <td>48</td>\n",
              "      <td>2</td>\n",
              "      <td>1</td>\n",
              "      <td>0</td>\n",
              "      <td>12</td>\n",
              "      <td>Baixo</td>\n",
              "    </tr>\n",
              "    <tr>\n",
              "      <th>1</th>\n",
              "      <td>98</td>\n",
              "      <td>2</td>\n",
              "      <td>3</td>\n",
              "      <td>1</td>\n",
              "      <td>6</td>\n",
              "      <td>Medio</td>\n",
              "    </tr>\n",
              "    <tr>\n",
              "      <th>2</th>\n",
              "      <td>60</td>\n",
              "      <td>2</td>\n",
              "      <td>2</td>\n",
              "      <td>1</td>\n",
              "      <td>8</td>\n",
              "      <td>Baixo</td>\n",
              "    </tr>\n",
              "    <tr>\n",
              "      <th>3</th>\n",
              "      <td>90</td>\n",
              "      <td>3</td>\n",
              "      <td>2</td>\n",
              "      <td>2</td>\n",
              "      <td>0</td>\n",
              "      <td>Medio</td>\n",
              "    </tr>\n",
              "    <tr>\n",
              "      <th>4</th>\n",
              "      <td>85</td>\n",
              "      <td>3</td>\n",
              "      <td>2</td>\n",
              "      <td>1</td>\n",
              "      <td>14</td>\n",
              "      <td>Medio</td>\n",
              "    </tr>\n",
              "    <tr>\n",
              "      <th>...</th>\n",
              "      <td>...</td>\n",
              "      <td>...</td>\n",
              "      <td>...</td>\n",
              "      <td>...</td>\n",
              "      <td>...</td>\n",
              "      <td>...</td>\n",
              "    </tr>\n",
              "    <tr>\n",
              "      <th>2395</th>\n",
              "      <td>80</td>\n",
              "      <td>2</td>\n",
              "      <td>2</td>\n",
              "      <td>1</td>\n",
              "      <td>13</td>\n",
              "      <td>Medio</td>\n",
              "    </tr>\n",
              "    <tr>\n",
              "      <th>2396</th>\n",
              "      <td>25</td>\n",
              "      <td>1</td>\n",
              "      <td>1</td>\n",
              "      <td>0</td>\n",
              "      <td>20</td>\n",
              "      <td>Medio</td>\n",
              "    </tr>\n",
              "    <tr>\n",
              "      <th>2397</th>\n",
              "      <td>83</td>\n",
              "      <td>3</td>\n",
              "      <td>2</td>\n",
              "      <td>2</td>\n",
              "      <td>6</td>\n",
              "      <td>Medio</td>\n",
              "    </tr>\n",
              "    <tr>\n",
              "      <th>2398</th>\n",
              "      <td>87</td>\n",
              "      <td>3</td>\n",
              "      <td>3</td>\n",
              "      <td>2</td>\n",
              "      <td>18</td>\n",
              "      <td>Medio</td>\n",
              "    </tr>\n",
              "    <tr>\n",
              "      <th>2399</th>\n",
              "      <td>54</td>\n",
              "      <td>2</td>\n",
              "      <td>2</td>\n",
              "      <td>1</td>\n",
              "      <td>11</td>\n",
              "      <td>Baixo</td>\n",
              "    </tr>\n",
              "  </tbody>\n",
              "</table>\n",
              "<p>2400 rows × 6 columns</p>\n",
              "</div>\n",
              "      <button class=\"colab-df-convert\" onclick=\"convertToInteractive('df-e2915fc0-8af6-47e4-981a-512ebf2eb4ad')\"\n",
              "              title=\"Convert this dataframe to an interactive table.\"\n",
              "              style=\"display:none;\">\n",
              "        \n",
              "  <svg xmlns=\"http://www.w3.org/2000/svg\" height=\"24px\"viewBox=\"0 0 24 24\"\n",
              "       width=\"24px\">\n",
              "    <path d=\"M0 0h24v24H0V0z\" fill=\"none\"/>\n",
              "    <path d=\"M18.56 5.44l.94 2.06.94-2.06 2.06-.94-2.06-.94-.94-2.06-.94 2.06-2.06.94zm-11 1L8.5 8.5l.94-2.06 2.06-.94-2.06-.94L8.5 2.5l-.94 2.06-2.06.94zm10 10l.94 2.06.94-2.06 2.06-.94-2.06-.94-.94-2.06-.94 2.06-2.06.94z\"/><path d=\"M17.41 7.96l-1.37-1.37c-.4-.4-.92-.59-1.43-.59-.52 0-1.04.2-1.43.59L10.3 9.45l-7.72 7.72c-.78.78-.78 2.05 0 2.83L4 21.41c.39.39.9.59 1.41.59.51 0 1.02-.2 1.41-.59l7.78-7.78 2.81-2.81c.8-.78.8-2.07 0-2.86zM5.41 20L4 18.59l7.72-7.72 1.47 1.35L5.41 20z\"/>\n",
              "  </svg>\n",
              "      </button>\n",
              "      \n",
              "  <style>\n",
              "    .colab-df-container {\n",
              "      display:flex;\n",
              "      flex-wrap:wrap;\n",
              "      gap: 12px;\n",
              "    }\n",
              "\n",
              "    .colab-df-convert {\n",
              "      background-color: #E8F0FE;\n",
              "      border: none;\n",
              "      border-radius: 50%;\n",
              "      cursor: pointer;\n",
              "      display: none;\n",
              "      fill: #1967D2;\n",
              "      height: 32px;\n",
              "      padding: 0 0 0 0;\n",
              "      width: 32px;\n",
              "    }\n",
              "\n",
              "    .colab-df-convert:hover {\n",
              "      background-color: #E2EBFA;\n",
              "      box-shadow: 0px 1px 2px rgba(60, 64, 67, 0.3), 0px 1px 3px 1px rgba(60, 64, 67, 0.15);\n",
              "      fill: #174EA6;\n",
              "    }\n",
              "\n",
              "    [theme=dark] .colab-df-convert {\n",
              "      background-color: #3B4455;\n",
              "      fill: #D2E3FC;\n",
              "    }\n",
              "\n",
              "    [theme=dark] .colab-df-convert:hover {\n",
              "      background-color: #434B5C;\n",
              "      box-shadow: 0px 1px 3px 1px rgba(0, 0, 0, 0.15);\n",
              "      filter: drop-shadow(0px 1px 2px rgba(0, 0, 0, 0.3));\n",
              "      fill: #FFFFFF;\n",
              "    }\n",
              "  </style>\n",
              "\n",
              "      <script>\n",
              "        const buttonEl =\n",
              "          document.querySelector('#df-e2915fc0-8af6-47e4-981a-512ebf2eb4ad button.colab-df-convert');\n",
              "        buttonEl.style.display =\n",
              "          google.colab.kernel.accessAllowed ? 'block' : 'none';\n",
              "\n",
              "        async function convertToInteractive(key) {\n",
              "          const element = document.querySelector('#df-e2915fc0-8af6-47e4-981a-512ebf2eb4ad');\n",
              "          const dataTable =\n",
              "            await google.colab.kernel.invokeFunction('convertToInteractive',\n",
              "                                                     [key], {});\n",
              "          if (!dataTable) return;\n",
              "\n",
              "          const docLinkHtml = 'Like what you see? Visit the ' +\n",
              "            '<a target=\"_blank\" href=https://colab.research.google.com/notebooks/data_table.ipynb>data table notebook</a>'\n",
              "            + ' to learn more about interactive tables.';\n",
              "          element.innerHTML = '';\n",
              "          dataTable['output_type'] = 'display_data';\n",
              "          await google.colab.output.renderOutput(dataTable, element);\n",
              "          const docLink = document.createElement('div');\n",
              "          docLink.innerHTML = docLinkHtml;\n",
              "          element.appendChild(docLink);\n",
              "        }\n",
              "      </script>\n",
              "    </div>\n",
              "  </div>\n",
              "  "
            ]
          },
          "metadata": {},
          "execution_count": 41
        }
      ]
    },
    {
      "cell_type": "markdown",
      "source": [
        "Questão 2 (2,5) - Treinando o modelo com os dados do site vivareal.com.br"
      ],
      "metadata": {
        "id": "RyQk8b8qswCU"
      }
    },
    {
      "cell_type": "code",
      "source": [
        "X = dataFrame[['tamanho','quartos','banheiros','vagas','bairros']]\n",
        "y = dataFrame.valor"
      ],
      "metadata": {
        "id": "3bGBXhMbdAoY"
      },
      "execution_count": 42,
      "outputs": []
    },
    {
      "cell_type": "markdown",
      "source": [
        "Separando os dados para treinamento e teste"
      ],
      "metadata": {
        "id": "KuJzK3qzL-QM"
      }
    },
    {
      "cell_type": "code",
      "source": [
        "from sklearn.model_selection import train_test_split\n",
        "X_data_train, X_data_test, y_data_train, y_data_test = train_test_split(X,y, test_size = 0.33)"
      ],
      "metadata": {
        "id": "srVEPsv7L889"
      },
      "execution_count": 43,
      "outputs": []
    },
    {
      "cell_type": "code",
      "source": [
        "from sklearn.preprocessing import StandardScaler\n",
        "sc = StandardScaler()\n",
        "X_data_train = sc.fit_transform(X_data_train)\n",
        "X_data_test = sc.transform(X_data_test)"
      ],
      "metadata": {
        "id": "WqE01-4JMuyE"
      },
      "execution_count": 44,
      "outputs": []
    },
    {
      "cell_type": "markdown",
      "source": [
        "Treinando o modelo"
      ],
      "metadata": {
        "id": "Q2FU7VXbRHuX"
      }
    },
    {
      "cell_type": "code",
      "source": [
        "from sklearn.naive_bayes import GaussianNB\n",
        "classifier = GaussianNB()\n",
        "classifier.fit(X_data_train, y_data_train)"
      ],
      "metadata": {
        "colab": {
          "base_uri": "https://localhost:8080/"
        },
        "id": "1hXrZyAlRHPE",
        "outputId": "777da1af-2833-4769-aed6-7b4bff6a2f6c"
      },
      "execution_count": 45,
      "outputs": [
        {
          "output_type": "execute_result",
          "data": {
            "text/plain": [
              "GaussianNB()"
            ]
          },
          "metadata": {},
          "execution_count": 45
        }
      ]
    },
    {
      "cell_type": "markdown",
      "source": [
        "Fazendo as predições"
      ],
      "metadata": {
        "id": "KZTbuyvMtjfv"
      }
    },
    {
      "cell_type": "code",
      "source": [
        "y_pred = classifier.predict(X_data_test) \n",
        "y_pred"
      ],
      "metadata": {
        "colab": {
          "base_uri": "https://localhost:8080/"
        },
        "id": "RXqsIX6rRHGR",
        "outputId": "9703217d-fbdb-41c2-865c-26d9e8a9e1a7"
      },
      "execution_count": 47,
      "outputs": [
        {
          "output_type": "execute_result",
          "data": {
            "text/plain": [
              "array(['Baixo', 'Baixo', 'Medio', 'Baixo', 'Medio', 'Baixo', 'Baixo',\n",
              "       'Medio', 'Medio', 'Medio', 'Baixo', 'Medio', 'Medio', 'Baixo',\n",
              "       'Baixo', 'Baixo', 'Medio', 'Medio', 'Medio', 'Medio', 'Baixo',\n",
              "       'Baixo', 'Medio', 'Baixo', 'Medio', 'Baixo', 'Medio', 'Baixo',\n",
              "       'Baixo', 'Medio', 'Medio', 'Baixo', 'Medio', 'Baixo', 'Medio',\n",
              "       'Baixo', 'Medio', 'Baixo', 'Medio', 'Baixo', 'Baixo', 'Baixo',\n",
              "       'Medio', 'Baixo', 'Baixo', 'Baixo', 'Medio', 'Baixo', 'Medio',\n",
              "       'Baixo', 'Baixo', 'Baixo', 'Medio', 'Baixo', 'Medio', 'Medio',\n",
              "       'Medio', 'Baixo', 'Medio', 'Baixo', 'Medio', 'Medio', 'Medio',\n",
              "       'Baixo', 'Baixo', 'Medio', 'Medio', 'Baixo', 'Baixo', 'Baixo',\n",
              "       'Medio', 'Medio', 'Medio', 'Baixo', 'Medio', 'Baixo', 'Medio',\n",
              "       'Baixo', 'Baixo', 'Medio', 'Medio', 'Baixo', 'Medio', 'Baixo',\n",
              "       'Medio', 'Baixo', 'Medio', 'Medio', 'Baixo', 'Medio', 'Medio',\n",
              "       'Baixo', 'Medio', 'Medio', 'Medio', 'Medio', 'Medio', 'Baixo',\n",
              "       'Baixo', 'Medio', 'Baixo', 'Baixo', 'Baixo', 'Medio', 'Medio',\n",
              "       'Baixo', 'Baixo', 'Baixo', 'Baixo', 'Baixo', 'Baixo', 'Medio',\n",
              "       'Medio', 'Baixo', 'Medio', 'Medio', 'Baixo', 'Baixo', 'Medio',\n",
              "       'Baixo', 'Medio', 'Medio', 'Medio', 'Medio', 'Baixo', 'Medio',\n",
              "       'Medio', 'Baixo', 'Baixo', 'Medio', 'Medio', 'Baixo', 'Baixo',\n",
              "       'Medio', 'Baixo', 'Baixo', 'Baixo', 'Baixo', 'Medio', 'Medio',\n",
              "       'Baixo', 'Baixo', 'Medio', 'Medio', 'Medio', 'Medio', 'Medio',\n",
              "       'Medio', 'Medio', 'Medio', 'Baixo', 'Baixo', 'Baixo', 'Baixo',\n",
              "       'Medio', 'Baixo', 'Baixo', 'Baixo', 'Medio', 'Medio', 'Medio',\n",
              "       'Medio', 'Medio', 'Medio', 'Medio', 'Medio', 'Baixo', 'Medio',\n",
              "       'Medio', 'Baixo', 'Baixo', 'Medio', 'Baixo', 'Medio', 'Baixo',\n",
              "       'Medio', 'Baixo', 'Medio', 'Medio', 'Medio', 'Baixo', 'Baixo',\n",
              "       'Baixo', 'Medio', 'Medio', 'Baixo', 'Baixo', 'Medio', 'Baixo',\n",
              "       'Medio', 'Baixo', 'Medio', 'Medio', 'Baixo', 'Baixo', 'Baixo',\n",
              "       'Baixo', 'Medio', 'Baixo', 'Baixo', 'Baixo', 'Medio', 'Medio',\n",
              "       'Baixo', 'Medio', 'Baixo', 'Baixo', 'Medio', 'Medio', 'Baixo',\n",
              "       'Baixo', 'Medio', 'Baixo', 'Medio', 'Baixo', 'Medio', 'Medio',\n",
              "       'Baixo', 'Baixo', 'Medio', 'Baixo', 'Medio', 'Baixo', 'Baixo',\n",
              "       'Medio', 'Baixo', 'Medio', 'Medio', 'Medio', 'Medio', 'Baixo',\n",
              "       'Medio', 'Baixo', 'Medio', 'Medio', 'Baixo', 'Medio', 'Baixo',\n",
              "       'Medio', 'Medio', 'Medio', 'Medio', 'Baixo', 'Baixo', 'Medio',\n",
              "       'Baixo', 'Baixo', 'Medio', 'Baixo', 'Medio', 'Medio', 'Medio',\n",
              "       'Medio', 'Baixo', 'Medio', 'Baixo', 'Medio', 'Baixo', 'Medio',\n",
              "       'Medio', 'Medio', 'Baixo', 'Baixo', 'Baixo', 'Baixo', 'Baixo',\n",
              "       'Medio', 'Baixo', 'Baixo', 'Baixo', 'Medio', 'Medio', 'Medio',\n",
              "       'Baixo', 'Baixo', 'Medio', 'Medio', 'Medio', 'Medio', 'Medio',\n",
              "       'Medio', 'Baixo', 'Medio', 'Medio', 'Medio', 'Medio', 'Baixo',\n",
              "       'Medio', 'Baixo', 'Baixo', 'Baixo', 'Medio', 'Medio', 'Medio',\n",
              "       'Medio', 'Baixo', 'Baixo', 'Medio', 'Medio', 'Medio', 'Baixo',\n",
              "       'Medio', 'Medio', 'Medio', 'Baixo', 'Medio', 'Medio', 'Medio',\n",
              "       'Baixo', 'Medio', 'Baixo', 'Medio', 'Medio', 'Medio', 'Medio',\n",
              "       'Medio', 'Medio', 'Medio', 'Medio', 'Medio', 'Medio', 'Medio',\n",
              "       'Medio', 'Baixo', 'Baixo', 'Medio', 'Medio', 'Medio', 'Medio',\n",
              "       'Medio', 'Baixo', 'Baixo', 'Baixo', 'Medio', 'Baixo', 'Medio',\n",
              "       'Medio', 'Baixo', 'Medio', 'Medio', 'Medio', 'Medio', 'Baixo',\n",
              "       'Baixo', 'Medio', 'Baixo', 'Medio', 'Baixo', 'Medio', 'Medio',\n",
              "       'Medio', 'Medio', 'Medio', 'Medio', 'Medio', 'Medio', 'Medio',\n",
              "       'Baixo', 'Baixo', 'Medio', 'Medio', 'Medio', 'Medio', 'Medio',\n",
              "       'Medio', 'Medio', 'Medio', 'Medio', 'Medio', 'Medio', 'Baixo',\n",
              "       'Baixo', 'Medio', 'Medio', 'Baixo', 'Baixo', 'Baixo', 'Medio',\n",
              "       'Medio', 'Medio', 'Medio', 'Medio', 'Baixo', 'Baixo', 'Medio',\n",
              "       'Baixo', 'Baixo', 'Baixo', 'Baixo', 'Medio', 'Medio', 'Baixo',\n",
              "       'Medio', 'Baixo', 'Medio', 'Medio', 'Medio', 'Medio', 'Medio',\n",
              "       'Medio', 'Baixo', 'Medio', 'Baixo', 'Medio', 'Baixo', 'Baixo',\n",
              "       'Medio', 'Medio', 'Baixo', 'Baixo', 'Baixo', 'Medio', 'Medio',\n",
              "       'Baixo', 'Baixo', 'Baixo', 'Medio', 'Baixo', 'Baixo', 'Medio',\n",
              "       'Medio', 'Medio', 'Baixo', 'Baixo', 'Baixo', 'Medio', 'Baixo',\n",
              "       'Medio', 'Medio', 'Medio', 'Medio', 'Medio', 'Medio', 'Medio',\n",
              "       'Medio', 'Medio', 'Baixo', 'Medio', 'Baixo', 'Medio', 'Medio',\n",
              "       'Medio', 'Medio', 'Medio', 'Baixo', 'Baixo', 'Baixo', 'Baixo',\n",
              "       'Baixo', 'Baixo', 'Medio', 'Baixo', 'Medio', 'Baixo', 'Medio',\n",
              "       'Medio', 'Baixo', 'Medio', 'Medio', 'Baixo', 'Medio', 'Medio',\n",
              "       'Medio', 'Medio', 'Medio', 'Baixo', 'Medio', 'Medio', 'Baixo',\n",
              "       'Medio', 'Medio', 'Baixo', 'Baixo', 'Medio', 'Baixo', 'Baixo',\n",
              "       'Baixo', 'Medio', 'Baixo', 'Medio', 'Medio', 'Medio', 'Baixo',\n",
              "       'Baixo', 'Medio', 'Medio', 'Baixo', 'Medio', 'Medio', 'Baixo',\n",
              "       'Medio', 'Medio', 'Baixo', 'Baixo', 'Medio', 'Baixo', 'Baixo',\n",
              "       'Medio', 'Medio', 'Medio', 'Baixo', 'Medio', 'Baixo', 'Baixo',\n",
              "       'Medio', 'Medio', 'Medio', 'Baixo', 'Baixo', 'Medio', 'Medio',\n",
              "       'Baixo', 'Medio', 'Medio', 'Baixo', 'Medio', 'Medio', 'Baixo',\n",
              "       'Medio', 'Baixo', 'Medio', 'Baixo', 'Baixo', 'Baixo', 'Baixo',\n",
              "       'Medio', 'Baixo', 'Medio', 'Baixo', 'Baixo', 'Baixo', 'Medio',\n",
              "       'Baixo', 'Medio', 'Medio', 'Medio', 'Baixo', 'Baixo', 'Medio',\n",
              "       'Medio', 'Medio', 'Baixo', 'Baixo', 'Baixo', 'Baixo', 'Baixo',\n",
              "       'Baixo', 'Medio', 'Baixo', 'Medio', 'Baixo', 'Baixo', 'Medio',\n",
              "       'Medio', 'Medio', 'Medio', 'Medio', 'Baixo', 'Medio', 'Medio',\n",
              "       'Baixo', 'Baixo', 'Baixo', 'Medio', 'Medio', 'Baixo', 'Baixo',\n",
              "       'Baixo', 'Medio', 'Medio', 'Medio', 'Medio', 'Medio', 'Baixo',\n",
              "       'Baixo', 'Medio', 'Baixo', 'Baixo', 'Medio', 'Medio', 'Baixo',\n",
              "       'Medio', 'Medio', 'Baixo', 'Baixo', 'Medio', 'Baixo', 'Medio',\n",
              "       'Baixo', 'Medio', 'Baixo', 'Medio', 'Baixo', 'Medio', 'Medio',\n",
              "       'Medio', 'Baixo', 'Medio', 'Baixo', 'Medio', 'Medio', 'Baixo',\n",
              "       'Baixo', 'Baixo', 'Baixo', 'Medio', 'Baixo', 'Baixo', 'Baixo',\n",
              "       'Medio', 'Baixo', 'Baixo', 'Medio', 'Medio', 'Baixo', 'Medio',\n",
              "       'Medio', 'Baixo', 'Medio', 'Medio', 'Medio', 'Baixo', 'Medio',\n",
              "       'Baixo', 'Baixo', 'Medio', 'Baixo', 'Medio', 'Medio', 'Baixo',\n",
              "       'Medio', 'Baixo', 'Medio', 'Baixo', 'Baixo', 'Baixo', 'Baixo',\n",
              "       'Medio', 'Medio', 'Baixo', 'Medio', 'Medio', 'Medio', 'Baixo',\n",
              "       'Baixo', 'Baixo', 'Medio', 'Baixo', 'Baixo', 'Medio', 'Baixo',\n",
              "       'Baixo', 'Medio', 'Medio', 'Baixo', 'Medio', 'Medio', 'Baixo',\n",
              "       'Medio', 'Medio', 'Medio', 'Medio', 'Medio', 'Baixo', 'Baixo',\n",
              "       'Medio', 'Medio', 'Baixo', 'Medio', 'Baixo', 'Medio', 'Medio',\n",
              "       'Baixo', 'Baixo', 'Medio', 'Medio', 'Baixo', 'Baixo', 'Medio',\n",
              "       'Medio', 'Baixo', 'Medio', 'Baixo', 'Baixo', 'Baixo', 'Medio',\n",
              "       'Baixo', 'Medio', 'Baixo', 'Baixo', 'Medio', 'Medio', 'Medio',\n",
              "       'Baixo', 'Medio', 'Baixo', 'Baixo', 'Baixo', 'Baixo', 'Medio',\n",
              "       'Medio', 'Baixo', 'Baixo', 'Baixo', 'Medio', 'Medio', 'Baixo',\n",
              "       'Medio', 'Baixo', 'Medio', 'Baixo', 'Baixo', 'Baixo', 'Medio',\n",
              "       'Medio', 'Medio', 'Baixo', 'Baixo', 'Medio', 'Medio', 'Medio',\n",
              "       'Baixo', 'Medio', 'Baixo', 'Medio', 'Baixo', 'Baixo', 'Baixo',\n",
              "       'Medio', 'Baixo', 'Baixo', 'Medio', 'Baixo', 'Medio', 'Baixo',\n",
              "       'Medio', 'Baixo', 'Medio', 'Baixo', 'Medio', 'Baixo', 'Medio',\n",
              "       'Medio', 'Baixo', 'Baixo', 'Baixo', 'Medio', 'Baixo', 'Baixo',\n",
              "       'Medio', 'Baixo', 'Medio', 'Medio', 'Baixo', 'Medio', 'Baixo',\n",
              "       'Baixo', 'Baixo', 'Medio', 'Medio', 'Medio', 'Medio', 'Medio',\n",
              "       'Medio', 'Baixo', 'Baixo', 'Baixo', 'Baixo', 'Baixo', 'Baixo',\n",
              "       'Medio', 'Medio', 'Medio', 'Medio', 'Baixo', 'Baixo', 'Baixo',\n",
              "       'Medio', 'Baixo', 'Baixo', 'Baixo', 'Baixo', 'Medio', 'Baixo',\n",
              "       'Medio', 'Baixo', 'Baixo', 'Medio', 'Medio', 'Baixo', 'Medio',\n",
              "       'Baixo'], dtype='<U5')"
            ]
          },
          "metadata": {},
          "execution_count": 47
        }
      ]
    },
    {
      "cell_type": "markdown",
      "source": [
        "Exibindo matriz de precisão/Acuracia/Precision/Recall/F1-Score"
      ],
      "metadata": {
        "id": "XgyeFA4ntpXA"
      }
    },
    {
      "cell_type": "code",
      "source": [
        "from sklearn.metrics import confusion_matrix\n",
        "cm = confusion_matrix(y_data_test, y_pred)\n",
        "from sklearn.metrics import accuracy_score \n",
        "print (\"Accuracy : \", accuracy_score(y_data_test, y_pred))\n",
        "from sklearn.metrics import precision_recall_fscore_support \n",
        "print (\"Precision : \", precision_recall_fscore_support(y_data_test, y_pred, average='weighted'))\n",
        "from sklearn.metrics import recall_score \n",
        "print (\"Recall : \", recall_score(y_data_test, y_pred, average='weighted'))\n",
        "from sklearn.metrics import f1_score \n",
        "print (\"F1 : \", f1_score(y_data_test, y_pred, average='weighted'))"
      ],
      "metadata": {
        "colab": {
          "base_uri": "https://localhost:8080/"
        },
        "id": "YpzepPoTtvzb",
        "outputId": "19e2aa61-96d8-46aa-d06d-bc9dcbde6d2d"
      },
      "execution_count": 48,
      "outputs": [
        {
          "output_type": "stream",
          "name": "stdout",
          "text": [
            "Accuracy :  0.8661616161616161\n",
            "Precision :  (0.8686483875682168, 0.8661616161616161, 0.8666072633385029, None)\n",
            "Recall :  0.8661616161616161\n",
            "F1 :  0.8666072633385029\n"
          ]
        }
      ]
    }
  ]
}